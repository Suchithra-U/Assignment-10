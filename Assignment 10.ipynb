{
 "cells": [
  {
   "cell_type": "code",
   "execution_count": 2,
   "metadata": {},
   "outputs": [
    {
     "name": "stdout",
     "output_type": "stream",
     "text": [
      "[6, 28, 286, 628]\n"
     ]
    }
   ],
   "source": [
    "#To clone or copy a list\n",
    "List1=[6,28,286,628]\n",
    "List2=List1.copy()\n",
    "print(List2)"
   ]
  },
  {
   "cell_type": "code",
   "execution_count": 19,
   "metadata": {},
   "outputs": [
    {
     "name": "stdout",
     "output_type": "stream",
     "text": [
      "['Blue', 'Green', 'Black']\n"
     ]
    }
   ],
   "source": [
    "#To print a specified list after removing 0th,4th,5th\n",
    "List3=['pink','Blue','Green','Black','white','Red']\n",
    "List3=[x for (i,x) in enumerate(List3) if i not in (0,4,5)]\n",
    "print(List3)"
   ]
  },
  {
   "cell_type": "code",
   "execution_count": 20,
   "metadata": {},
   "outputs": [
    {
     "name": "stdout",
     "output_type": "stream",
     "text": [
      "[7, 9, 13, 23]\n"
     ]
    }
   ],
   "source": [
    "#To print the numbers of a specified list after removing even numbers\n",
    "num=[2,7,9,13,18,20,24,23]\n",
    "num=[x for x in num if x%2!=0]\n",
    "print(num)"
   ]
  },
  {
   "cell_type": "code",
   "execution_count": 21,
   "metadata": {},
   "outputs": [
    {
     "name": "stdout",
     "output_type": "stream",
     "text": [
      "['Blue', 'Green', 'pink', 'white', 'Red', 'Black']\n"
     ]
    }
   ],
   "source": [
    "#To shuffle and print a specified list\n",
    "from random import shuffle\n",
    "List4=['pink','Blue','Green','Black','white','Red']\n",
    "shuffle(List4)\n",
    "print(List4)"
   ]
  },
  {
   "cell_type": "code",
   "execution_count": 11,
   "metadata": {},
   "outputs": [
    {
     "name": "stdout",
     "output_type": "stream",
     "text": [
      "[8, 6]\n"
     ]
    }
   ],
   "source": [
    "#To get the difference between the two lists\n",
    "list5=[2,8,6]\n",
    "list6=[3,2,9]\n",
    "list_difference =[]\n",
    "for item in list5:\n",
    "    if item not in list6:\n",
    "                   list_difference.append(item)\n",
    "print(list_difference)\n"
   ]
  },
  {
   "cell_type": "code",
   "execution_count": null,
   "metadata": {},
   "outputs": [],
   "source": []
  }
 ],
 "metadata": {
  "kernelspec": {
   "display_name": "Python 3",
   "language": "python",
   "name": "python3"
  },
  "language_info": {
   "codemirror_mode": {
    "name": "ipython",
    "version": 3
   },
   "file_extension": ".py",
   "mimetype": "text/x-python",
   "name": "python",
   "nbconvert_exporter": "python",
   "pygments_lexer": "ipython3",
   "version": "3.8.3"
  }
 },
 "nbformat": 4,
 "nbformat_minor": 4
}
